{
 "cells": [
  {
   "cell_type": "markdown",
   "metadata": {},
   "source": [
    "### 1.導入需要的函式庫"
   ]
  },
  {
   "cell_type": "code",
   "execution_count": 27,
   "metadata": {},
   "outputs": [],
   "source": [
    "%matplotlib inline\n",
    "\n",
    "import numpy as np\n",
    "import matplotlib.pyplot as plt\n",
    "import sympy as sp\n",
    "from sympy import pprint\n",
    "sp.init_printing()"
   ]
  },
  {
   "cell_type": "markdown",
   "metadata": {},
   "source": [
    "### 2.主程式"
   ]
  },
  {
   "cell_type": "code",
   "execution_count": 30,
   "metadata": {},
   "outputs": [],
   "source": [
    "def liorld():\n",
    "    ### store each vector in the Matrix : Mat , one column for each vector.\n",
    "\n",
    "    dim = input(\"Please input the dimension of the Vector space.\\n\") \n",
    "    counter = 0\n",
    "    dim = int(dim)\n",
    "    Mat = sp.Matrix( dim*[0] )\n",
    "    Mat\n",
    "    v = [0]\n",
    "    while(1):\n",
    "            v[0] = input(\"Please input the first number of the new vector or \\\"exit\\\" to stop input.\\n\")\n",
    "            if(v[0] == 'exit'):\n",
    "                 break\n",
    "            else:\n",
    "                for i in range(1,dim):\n",
    "                    new = input(\"Next number?\\n\")\n",
    "\n",
    "                    if(len(v) < dim):\n",
    "                        v.append(0)\n",
    "\n",
    "                    v[i] = int(new)\n",
    "\n",
    "                spv = sp.Matrix(v)\n",
    "                Mat = Mat.col_insert(1,spv)\n",
    "                counter+=1\n",
    "    Mat.col_del(0)\n",
    "    print('\\n\\n')\n",
    "    ### end of input , return Mat--------------------------------\n",
    "\n",
    "    ### RREF Mat and check which column didn't have a pivot------\n",
    "\n",
    "    pivots = Mat.rref()[1]\n",
    "    col_size = Mat.shape[1]\n",
    "\n",
    "\n",
    "\n",
    "    ### Transpose Mat to make the output easier to read ---------\n",
    "    Mat_T = Mat.transpose()\n",
    "\n",
    "    ### Out  put ------------------------------------------------\n",
    "    print('The max size of the Linearly Independent group is : '\n",
    "             + str(len(pivots)) + '\\n' )\n",
    "\n",
    "    print(\"The vectors bellow are Linearly Independent.\")\n",
    "    for i in pivots :\n",
    "        pprint(Mat_T.row(i))"
   ]
  },
  {
   "cell_type": "markdown",
   "metadata": {},
   "source": [
    "### 3.測試執行"
   ]
  },
  {
   "cell_type": "markdown",
   "metadata": {},
   "source": [
    "#### 先舉出若干向量\n",
    "[1,2,3,4]\n",
    "[2,4,6,8]\n",
    "[1,1,1,1]\n",
    "[1,1,1,3]\n",
    "[2,2,2,6]"
   ]
  },
  {
   "cell_type": "markdown",
   "metadata": {},
   "source": [
    "#### 經過計算\n",
    "##### [1,2,3,4] 和 [2,4,6,8] 以及 [1,1,1,3] 和 [2,2,2,6] 可互相生成\n",
    "##### 故互線性相依\n",
    "##### 最大線性獨立集合所含之向量數為 : 3"
   ]
  },
  {
   "cell_type": "markdown",
   "metadata": {},
   "source": [
    "##### 利用函式計算:"
   ]
  },
  {
   "cell_type": "code",
   "execution_count": 31,
   "metadata": {},
   "outputs": [
    {
     "name": "stdout",
     "output_type": "stream",
     "text": [
      "Please input the dimension of the Vector space.\n",
      "4\n",
      "Please input the first number of the new vector or \"exit\" to stop input.\n",
      "1\n",
      "Next number?\n",
      "2\n",
      "Next number?\n",
      "3\n",
      "Next number?\n",
      "4\n",
      "Please input the first number of the new vector or \"exit\" to stop input.\n",
      "2\n",
      "Next number?\n",
      "4\n",
      "Next number?\n",
      "6\n",
      "Next number?\n",
      "8\n",
      "Please input the first number of the new vector or \"exit\" to stop input.\n",
      "1\n",
      "Next number?\n",
      "1\n",
      "Next number?\n",
      "1\n",
      "Next number?\n",
      "1\n",
      "Please input the first number of the new vector or \"exit\" to stop input.\n",
      "1\n",
      "Next number?\n",
      "1\n",
      "Next number?\n",
      "1\n",
      "Next number?\n",
      "3\n",
      "Please input the first number of the new vector or \"exit\" to stop input.\n",
      "2\n",
      "Next number?\n",
      "2\n",
      "Next number?\n",
      "2\n",
      "Next number?\n",
      "6\n",
      "Please input the first number of the new vector or \"exit\" to stop input.\n",
      "exit\n",
      "\n",
      "\n",
      "\n",
      "The max size of the Linearly Independent group is : 3\n",
      "\n",
      "The vectors bellow are Linearly Independent.\n",
      "[2  2  2  6]\n",
      "[1  1  1  1]\n",
      "[2  4  6  8]\n"
     ]
    }
   ],
   "source": [
    "liorld()"
   ]
  },
  {
   "cell_type": "markdown",
   "metadata": {},
   "source": [
    "##### 與預期答案相符"
   ]
  },
  {
   "cell_type": "markdown",
   "metadata": {},
   "source": [
    "#### 4.反思"
   ]
  },
  {
   "cell_type": "markdown",
   "metadata": {},
   "source": [
    "這支函式除了不夠簡潔外，最大的問題是在輸入的部分，這種輸入方法在面臨巨量資料時將會非常的難以讀入資料\n",
    "但是，若要使用它來面對線性代數的期中考那是綽綽有餘，因為此函式很直觀的只要將數字依序輸入就好，不用加\n",
    "上惱人的中括號和逗號。"
   ]
  },
  {
   "cell_type": "code",
   "execution_count": null,
   "metadata": {},
   "outputs": [],
   "source": []
  }
 ],
 "metadata": {
  "kernelspec": {
   "display_name": "Python 3",
   "language": "python",
   "name": "python3"
  },
  "language_info": {
   "codemirror_mode": {
    "name": "ipython",
    "version": 3
   },
   "file_extension": ".py",
   "mimetype": "text/x-python",
   "name": "python",
   "nbconvert_exporter": "python",
   "pygments_lexer": "ipython3",
   "version": "3.7.3"
  }
 },
 "nbformat": 4,
 "nbformat_minor": 2
}
