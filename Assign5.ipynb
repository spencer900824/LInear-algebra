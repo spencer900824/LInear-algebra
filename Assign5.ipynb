{
 "cells": [
  {
   "cell_type": "markdown",
   "metadata": {},
   "source": [
    "### 1.導入需要的函式庫"
   ]
  },
  {
   "cell_type": "code",
   "execution_count": 1,
   "metadata": {},
   "outputs": [],
   "source": [
    "%matplotlib inline\n",
    "\n",
    "import numpy as np\n",
    "import matplotlib.pyplot as plt\n",
    "import sympy as sp\n",
    "sp.init_printing()"
   ]
  },
  {
   "cell_type": "markdown",
   "metadata": {},
   "source": [
    "### 2.主程式"
   ]
  },
  {
   "cell_type": "code",
   "execution_count": 17,
   "metadata": {},
   "outputs": [
    {
     "name": "stdout",
     "output_type": "stream",
     "text": [
      "Please input the dimension of the Vector space.\n",
      "2\n",
      "Please input the first number of the new vector or \"exit\" to stop input.\n",
      "1\n",
      "Next number?\n",
      "1\n",
      "Please input the first number of the new vector or \"exit\" to stop input.\n",
      "2\n",
      "Next number?\n",
      "2\n",
      "Please input the first number of the new vector or \"exit\" to stop input.\n",
      "3\n",
      "Next number?\n",
      "3\n",
      "Please input the first number of the new vector or \"exit\" to stop input.\n",
      "4\n",
      "Next number?\n",
      "5\n",
      "Please input the first number of the new vector or \"exit\" to stop input.\n",
      "exit\n",
      "\n",
      "\n",
      "\n",
      "The max size of the Linearly Independent group is : 2\n",
      "\n",
      "The vectors bellow are Linearly Independent.\n",
      "Matrix([[4, 5]])\n",
      "Matrix([[3, 3]])\n"
     ]
    }
   ],
   "source": [
    "### store each vector in the Matrix : Mat , one column for each vector.\n",
    "\n",
    "dim = input(\"Please input the dimension of the Vector space.\\n\") \n",
    "counter = 0\n",
    "dim = int(dim)\n",
    "Mat = sp.Matrix( dim*[0] )\n",
    "Mat\n",
    "v = [0]\n",
    "while(1):\n",
    "        v[0] = input(\"Please input the first number of the new vector or \\\"exit\\\" to stop input.\\n\")\n",
    "        if(v[0] == 'exit'):\n",
    "             break\n",
    "        else:\n",
    "            for i in range(1,dim):\n",
    "                new = input(\"Next number?\\n\")\n",
    "                \n",
    "                if(len(v) < dim):\n",
    "                    v.append(0)\n",
    "                    \n",
    "                v[i] = int(new)\n",
    "            \n",
    "            spv = sp.Matrix(v)\n",
    "            Mat = Mat.col_insert(1,spv)\n",
    "            counter+=1\n",
    "Mat.col_del(0)\n",
    "print('\\n\\n')\n",
    "### end of input , return Mat--------------------------------\n",
    "\n",
    "### RREF Mat and check which column didn't have a pivot------\n",
    "\n",
    "pivots = Mat.rref()[1]\n",
    "col_size = Mat.shape[1]\n",
    "\n",
    "\n",
    "\n",
    "### Transpose Mat to make the output easier to read ---------\n",
    "Mat_T = Mat.transpose()\n",
    "\n",
    "### Out  put ------------------------------------------------\n",
    "print('The max size of the Linearly Independent group is : '\n",
    "         + str(len(pivots)) + '\\n' )\n",
    "\n",
    "print(\"The vectors bellow are Linearly Independent.\")\n",
    "for i in pivots :\n",
    "    print(Mat_T.row(i))"
   ]
  },
  {
   "cell_type": "code",
   "execution_count": null,
   "metadata": {},
   "outputs": [],
   "source": []
  }
 ],
 "metadata": {
  "kernelspec": {
   "display_name": "Python 3",
   "language": "python",
   "name": "python3"
  },
  "language_info": {
   "codemirror_mode": {
    "name": "ipython",
    "version": 3
   },
   "file_extension": ".py",
   "mimetype": "text/x-python",
   "name": "python",
   "nbconvert_exporter": "python",
   "pygments_lexer": "ipython3",
   "version": "3.7.3"
  }
 },
 "nbformat": 4,
 "nbformat_minor": 2
}
