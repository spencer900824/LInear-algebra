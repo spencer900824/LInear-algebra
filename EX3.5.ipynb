{
 "cells": [
  {
   "cell_type": "code",
   "execution_count": 1,
   "metadata": {},
   "outputs": [],
   "source": [
    "%matplotlib inline\n",
    "\n",
    "import numpy as np\n",
    "import matplotlib.pyplot as plt\n",
    "import sympy as sp\n",
    "from sympy import pprint\n",
    "sp.init_printing()"
   ]
  },
  {
   "cell_type": "markdown",
   "metadata": {},
   "source": [
    "## Q1"
   ]
  },
  {
   "cell_type": "code",
   "execution_count": 11,
   "metadata": {},
   "outputs": [],
   "source": [
    "U_span = sp.Matrix([[0,1,-3,-1]\n",
    "                 ,[-1,-3,4,-3]\n",
    "                 ,[2,1,1,5]\n",
    "                 ,[0,-1,2,0]\n",
    "                 ,[2,2,1,7]])"
   ]
  },
  {
   "cell_type": "code",
   "execution_count": 14,
   "metadata": {},
   "outputs": [
    {
     "name": "stdout",
     "output_type": "stream",
     "text": [
      "⎡1  0  0  1⎤\n",
      "⎢          ⎥\n",
      "⎢0  1  0  2⎥\n",
      "⎢          ⎥\n",
      "⎢0  0  1  1⎥\n",
      "⎢          ⎥\n",
      "⎢0  0  0  0⎥\n",
      "⎢          ⎥\n",
      "⎣0  0  0  0⎦\n"
     ]
    }
   ],
   "source": [
    "pprint(s.rref()[0])"
   ]
  },
  {
   "cell_type": "markdown",
   "metadata": {},
   "source": [
    "### U has basis B\n",
    "\n",
    "$[0,-1,2,0,2]^T$,\n",
    "$[1,-3,1,-1,2]^T$,\n",
    "$[-3,-3,1,2,1]^T$,"
   ]
  },
  {
   "cell_type": "code",
   "execution_count": 57,
   "metadata": {},
   "outputs": [],
   "source": [
    "B = sp.Matrix([[0,-1,2,0,2],[1,-3,1,-1,2],[-3,4,1,2,1]]).T\n",
    "x = sp.Matrix([-1,-9,-1,4,1])"
   ]
  },
  {
   "cell_type": "markdown",
   "metadata": {},
   "source": [
    "By $Def.$ 3.58 πU(x) of x = $B(B^TB)^{-1}B^T$x$x$"
   ]
  },
  {
   "cell_type": "code",
   "execution_count": 74,
   "metadata": {},
   "outputs": [
    {
     "data": {
      "text/latex": [
       "$$\\left[\\begin{matrix}\\frac{10}{21} & - \\frac{2}{7} & \\frac{4}{21} & - \\frac{1}{7} & - \\frac{1}{3}\\\\- \\frac{2}{7} & \\frac{43}{63} & \\frac{4}{63} & \\frac{2}{7} & - \\frac{2}{9}\\\\\\frac{4}{21} & \\frac{4}{63} & \\frac{58}{63} & \\frac{1}{7} & \\frac{1}{9}\\\\- \\frac{1}{7} & \\frac{2}{7} & \\frac{1}{7} & \\frac{1}{7} & 0\\\\- \\frac{1}{3} & - \\frac{2}{9} & \\frac{1}{9} & 0 & \\frac{7}{9}\\end{matrix}\\right]$$"
      ],
      "text/plain": [
       "⎡ 10                         ⎤\n",
       "⎢ ──   -2/7  4/21  -1/7  -1/3⎥\n",
       "⎢ 21                         ⎥\n",
       "⎢                            ⎥\n",
       "⎢       43                   ⎥\n",
       "⎢-2/7   ──   4/63  2/7   -2/9⎥\n",
       "⎢       63                   ⎥\n",
       "⎢                            ⎥\n",
       "⎢             58             ⎥\n",
       "⎢4/21  4/63   ──   1/7   1/9 ⎥\n",
       "⎢             63             ⎥\n",
       "⎢                            ⎥\n",
       "⎢-1/7  2/7   1/7   1/7    0  ⎥\n",
       "⎢                            ⎥\n",
       "⎣-1/3  -2/9  1/9    0    7/9 ⎦"
      ]
     },
     "execution_count": 74,
     "metadata": {},
     "output_type": "execute_result"
    }
   ],
   "source": [
    "B*(B.T*B).inv()*B.T"
   ]
  },
  {
   "cell_type": "markdown",
   "metadata": {},
   "source": [
    "## Q2"
   ]
  },
  {
   "cell_type": "markdown",
   "metadata": {},
   "source": [
    " πU(x) = "
   ]
  },
  {
   "cell_type": "code",
   "execution_count": 76,
   "metadata": {},
   "outputs": [],
   "source": [
    "pi_uofx = B*(B.T*B).inv()*B.T*x"
   ]
  },
  {
   "cell_type": "code",
   "execution_count": 77,
   "metadata": {},
   "outputs": [
    {
     "data": {
      "text/latex": [
       "$$\\left[\\begin{matrix}1\\\\-5\\\\-1\\\\-2\\\\3\\end{matrix}\\right]$$"
      ],
      "text/plain": [
       "⎡1 ⎤\n",
       "⎢  ⎥\n",
       "⎢-5⎥\n",
       "⎢  ⎥\n",
       "⎢-1⎥\n",
       "⎢  ⎥\n",
       "⎢-2⎥\n",
       "⎢  ⎥\n",
       "⎣3 ⎦"
      ]
     },
     "execution_count": 77,
     "metadata": {},
     "output_type": "execute_result"
    }
   ],
   "source": [
    "pi_uofx"
   ]
  },
  {
   "cell_type": "code",
   "execution_count": 78,
   "metadata": {},
   "outputs": [
    {
     "data": {
      "text/latex": [
       "$$\\left[\\begin{matrix}-1\\\\-9\\\\-1\\\\4\\\\1\\end{matrix}\\right]$$"
      ],
      "text/plain": [
       "⎡-1⎤\n",
       "⎢  ⎥\n",
       "⎢-9⎥\n",
       "⎢  ⎥\n",
       "⎢-1⎥\n",
       "⎢  ⎥\n",
       "⎢4 ⎥\n",
       "⎢  ⎥\n",
       "⎣1 ⎦"
      ]
     },
     "execution_count": 78,
     "metadata": {},
     "output_type": "execute_result"
    }
   ],
   "source": [
    "x"
   ]
  },
  {
   "cell_type": "markdown",
   "metadata": {},
   "source": [
    "d(pi_uofx,x) = root(4+16+0+36+4) = $60^{1/2}$"
   ]
  },
  {
   "cell_type": "code",
   "execution_count": null,
   "metadata": {},
   "outputs": [],
   "source": []
  }
 ],
 "metadata": {
  "kernelspec": {
   "display_name": "Python 3",
   "language": "python",
   "name": "python3"
  },
  "language_info": {
   "codemirror_mode": {
    "name": "ipython",
    "version": 3
   },
   "file_extension": ".py",
   "mimetype": "text/x-python",
   "name": "python",
   "nbconvert_exporter": "python",
   "pygments_lexer": "ipython3",
   "version": "3.7.3"
  }
 },
 "nbformat": 4,
 "nbformat_minor": 2
}
