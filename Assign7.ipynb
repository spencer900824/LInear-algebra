{
 "cells": [
  {
   "cell_type": "code",
   "execution_count": 4,
   "metadata": {},
   "outputs": [],
   "source": [
    "import matplotlib.pyplot as plt\n",
    "import numpy as np\n",
    "import sympy as sp\n",
    "from sympy import pprint\n",
    "sp.init_printing()"
   ]
  },
  {
   "cell_type": "markdown",
   "metadata": {},
   "source": [
    "$\\Phi$: $R^3→R^2$\n",
    "\n",
    "$A1$ is a transformation matrix of $\\Phi$ in  $[R^2]_{B1}$ and $[R^3]_{C1}$\n",
    "\n",
    "\n",
    "$B1$and$C1$ are two cannonical basis of $R^2$ and $R^3$\n",
    "\n",
    "$B_2$ and $C_2$ are other basis of $R^2$ and $R^3$"
   ]
  },
  {
   "cell_type": "code",
   "execution_count": 21,
   "metadata": {},
   "outputs": [],
   "source": [
    "A1 = sp.Matrix( [[1,2,3],\n",
    "                [9,8,7]])\n",
    "B1 = sp.Matrix( [[1,0],\n",
    "                [0,1]])\n",
    "C1 = sp.Matrix( [[1,0,0],\n",
    "                [0,1,0],\n",
    "                [0,0,1]])\n",
    "B2 = sp.Matrix( [[1,-1],\n",
    "                [2,1]])\n",
    "C2 = sp.Matrix( [[1,2,3],\n",
    "                [5,5,5],\n",
    "                [9,8,9]])"
   ]
  },
  {
   "cell_type": "markdown",
   "metadata": {},
   "source": [
    "$\\because B1 and C1$ are canonical basis\n",
    "\n",
    "$\\therefore$\n",
    "\n",
    "$T = [idv]_{B2}^{B1} =  \\begin{bmatrix} 1 & -1 \\\\ 2 & 1 \\\\ \\end{bmatrix} =B2$\n",
    "\n",
    "\n",
    "$S= [idv]_{C2}^{C1} =  \\begin{bmatrix} 1 & 2 & 3 \\\\ 4 & 5 & 6 \\\\ 7&8&9 \\end{bmatrix} =C2 $"
   ]
  },
  {
   "cell_type": "code",
   "execution_count": 30,
   "metadata": {},
   "outputs": [],
   "source": [
    "T = B2\n",
    "S = C2"
   ]
  },
  {
   "cell_type": "markdown",
   "metadata": {},
   "source": [
    "$A2$ is the transformation matrix of $\\Phi$ while bases are $B2$ and $C2$"
   ]
  },
  {
   "cell_type": "code",
   "execution_count": 31,
   "metadata": {},
   "outputs": [
    {
     "data": {
      "text/latex": [
       "$$\\left[\\begin{matrix}50 & 50 & \\frac{170}{3}\\\\12 & 14 & \\frac{50}{3}\\end{matrix}\\right]$$"
      ],
      "text/plain": [
       "⎡50  50  170/3⎤\n",
       "⎢             ⎥\n",
       "⎣12  14  50/3 ⎦"
      ]
     },
     "execution_count": 31,
     "metadata": {},
     "output_type": "execute_result"
    }
   ],
   "source": [
    "A2 = T.inv() * A1 * S\n",
    "A2"
   ]
  },
  {
   "cell_type": "markdown",
   "metadata": {},
   "source": [
    "$V1$ is a vector in $R^3$ with basis $B1$\n",
    "\n",
    "$V2$ is a vector in $R^3$ with basis $B2$"
   ]
  },
  {
   "cell_type": "code",
   "execution_count": 42,
   "metadata": {},
   "outputs": [
    {
     "name": "stdout",
     "output_type": "stream",
     "text": [
      "V1\n",
      "\n",
      "⎡1⎤\n",
      "⎢ ⎥\n",
      "⎢5⎥\n",
      "⎢ ⎥\n",
      "⎣7⎦\n",
      "V2\n",
      "\n",
      "⎡32 ⎤\n",
      "⎢   ⎥\n",
      "⎢65 ⎥\n",
      "⎢   ⎥\n",
      "⎣112⎦\n"
     ]
    }
   ],
   "source": [
    "V1 = sp.Matrix([1,5,7])\n",
    "V2 = C2*V1\n",
    "print(\"V1\\n\")\n",
    "pprint(V1)\n",
    "print(\"V2\\n\")\n",
    "pprint(V2)"
   ]
  },
  {
   "cell_type": "markdown",
   "metadata": {},
   "source": [
    "Check"
   ]
  },
  {
   "cell_type": "code",
   "execution_count": 46,
   "metadata": {},
   "outputs": [
    {
     "data": {
      "text/plain": [
       "True"
      ]
     },
     "execution_count": 46,
     "metadata": {},
     "output_type": "execute_result"
    }
   ],
   "source": [
    "A2*V1 == T.inv() * A1 * V2"
   ]
  }
 ],
 "metadata": {
  "kernelspec": {
   "display_name": "Python 3",
   "language": "python",
   "name": "python3"
  },
  "language_info": {
   "codemirror_mode": {
    "name": "ipython",
    "version": 3
   },
   "file_extension": ".py",
   "mimetype": "text/x-python",
   "name": "python",
   "nbconvert_exporter": "python",
   "pygments_lexer": "ipython3",
   "version": "3.7.3"
  }
 },
 "nbformat": 4,
 "nbformat_minor": 2
}
