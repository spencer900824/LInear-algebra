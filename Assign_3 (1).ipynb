{
 "cells": [
  {
   "cell_type": "markdown",
   "metadata": {},
   "source": [
    "### import 需要的函式庫"
   ]
  },
  {
   "cell_type": "code",
   "execution_count": 45,
   "metadata": {},
   "outputs": [],
   "source": [
    "%matplotlib inline\n",
    "\n",
    "import numpy as npn\n",
    "import matplotlib.pyplot as plt\n",
    "import sympy as sp\n",
    "sp.init_printing()"
   ]
  },
  {
   "cell_type": "markdown",
   "metadata": {},
   "source": [
    "### 開始執行操作"
   ]
  },
  {
   "cell_type": "code",
   "execution_count": 46,
   "metadata": {
    "scrolled": true
   },
   "outputs": [
    {
     "data": {
      "text/latex": [
       "$$\\left[\\begin{matrix}\\frac{7}{89} & \\frac{71}{89} & 0\\\\- \\frac{123}{178} & \\frac{151}{178} & 0\\\\- \\frac{199}{178} & \\frac{143}{178} & 0\\\\0 & -1 & 0\\\\-1 & 0 & 0\\end{matrix}\\right]$$"
      ],
      "text/plain": [
       "⎡       71    ⎤\n",
       "⎢7/89   ──   0⎥\n",
       "⎢       89    ⎥\n",
       "⎢             ⎥\n",
       "⎢-123   151   ⎥\n",
       "⎢─────  ───  0⎥\n",
       "⎢ 178   178   ⎥\n",
       "⎢             ⎥\n",
       "⎢-199   143   ⎥\n",
       "⎢─────  ───  0⎥\n",
       "⎢ 178   178   ⎥\n",
       "⎢             ⎥\n",
       "⎢  0    -1   0⎥\n",
       "⎢             ⎥\n",
       "⎣ -1     0   0⎦"
      ]
     },
     "execution_count": 46,
     "metadata": {},
     "output_type": "execute_result"
    }
   ],
   "source": [
    "# creat a Matrix\n",
    "a = sp.Matrix([[9,-8,2,2,4]\n",
    "              ,[3,-4,0,-1,3]\n",
    "              ,[2,9,-9,2,4]])\n",
    "\n",
    "# get the size of the Matrix\n",
    "row = a.shape[0]\n",
    "col = a.shape[1]\n",
    "\n",
    "# get the RREF and basic variable of a\n",
    "A = a.rref()[0]\n",
    "basic = a.rref()[1]\n",
    "\n",
    "# find out which row with the pivot not equal to 1 and do the -1 trick\n",
    "for i in range( 0 , col):\n",
    "    if i not in basic:\n",
    "        new_row = [0]*col\n",
    "        new_row[i] = -1\n",
    "        A = A.row_insert(i , sp.Matrix([new_row]))\n",
    "        row+=1\n",
    "        \n",
    "# creat another Matrix to store the homogeneous solution\n",
    "homo = sp.Matrix([0]*row)\n",
    "\n",
    "# insert the answers to the Matrix which store the answers\n",
    "for i in range(0,col):\n",
    "    if i not in basic:\n",
    "        homo = homo.col_insert( 0 , A.col(i))\n",
    "homo"
   ]
  },
  {
   "cell_type": "markdown",
   "metadata": {},
   "source": [
    "### 測試所找到之解是否為 homogeneous solution"
   ]
  },
  {
   "cell_type": "code",
   "execution_count": 47,
   "metadata": {},
   "outputs": [
    {
     "data": {
      "text/latex": [
       "$$\\left[\\begin{matrix}0\\\\0\\\\0\\end{matrix}\\right]$$"
      ],
      "text/plain": [
       "⎡0⎤\n",
       "⎢ ⎥\n",
       "⎢0⎥\n",
       "⎢ ⎥\n",
       "⎣0⎦"
      ]
     },
     "execution_count": 47,
     "metadata": {},
     "output_type": "execute_result"
    }
   ],
   "source": [
    "a*homo.col(0)"
   ]
  },
  {
   "cell_type": "code",
   "execution_count": 48,
   "metadata": {},
   "outputs": [
    {
     "data": {
      "text/latex": [
       "$$\\left[\\begin{matrix}0\\\\0\\\\0\\end{matrix}\\right]$$"
      ],
      "text/plain": [
       "⎡0⎤\n",
       "⎢ ⎥\n",
       "⎢0⎥\n",
       "⎢ ⎥\n",
       "⎣0⎦"
      ]
     },
     "execution_count": 48,
     "metadata": {},
     "output_type": "execute_result"
    }
   ],
   "source": [
    "a*homo.col(1)"
   ]
  },
  {
   "cell_type": "code",
   "execution_count": null,
   "metadata": {},
   "outputs": [],
   "source": []
  },
  {
   "cell_type": "code",
   "execution_count": 49,
   "metadata": {},
   "outputs": [
    {
     "data": {
      "text/latex": [
       "$$\\left[\\begin{matrix}0\\\\0\\\\0\\end{matrix}\\right]$$"
      ],
      "text/plain": [
       "⎡0⎤\n",
       "⎢ ⎥\n",
       "⎢0⎥\n",
       "⎢ ⎥\n",
       "⎣0⎦"
      ]
     },
     "execution_count": 49,
     "metadata": {},
     "output_type": "execute_result"
    }
   ],
   "source": [
    "a*(23*homo.col(0) + 4*homo.col(1))"
   ]
  },
  {
   "cell_type": "code",
   "execution_count": null,
   "metadata": {},
   "outputs": [],
   "source": []
  }
 ],
 "metadata": {
  "celltoolbar": "Raw Cell Format",
  "kernelspec": {
   "display_name": "Python 3",
   "language": "python",
   "name": "python3"
  },
  "language_info": {
   "codemirror_mode": {
    "name": "ipython",
    "version": 3
   },
   "file_extension": ".py",
   "mimetype": "text/x-python",
   "name": "python",
   "nbconvert_exporter": "python",
   "pygments_lexer": "ipython3",
   "version": "3.7.3"
  }
 },
 "nbformat": 4,
 "nbformat_minor": 2
}
